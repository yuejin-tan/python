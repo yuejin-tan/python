{
 "metadata": {
  "language_info": {
   "codemirror_mode": {
    "name": "ipython",
    "version": 3
   },
   "file_extension": ".py",
   "mimetype": "text/x-python",
   "name": "python",
   "nbconvert_exporter": "python",
   "pygments_lexer": "ipython3",
   "version": "3.8.10"
  },
  "orig_nbformat": 2,
  "kernelspec": {
   "name": "python3",
   "display_name": "Python 3.8.10 64-bit"
  },
  "interpreter": {
   "hash": "ea473e56564d38740c3a73fa70195190a7aa46caa77b0b6c495bf1a91a72b3e4"
  }
 },
 "nbformat": 4,
 "nbformat_minor": 2,
 "cells": [
  {
   "cell_type": "code",
   "execution_count": 1,
   "metadata": {},
   "outputs": [],
   "source": [
    "class Demo(object):\n",
    "\n",
    "    text = \"三种方法的比较\"\n",
    "    \n",
    "    def instance_method(self):\n",
    "        # self._a=11\n",
    "        print(\"调用实例方法\")\n",
    "\n",
    "    @classmethod\n",
    "    def class_method(cls):\n",
    "        print(\"调用类方法\")\n",
    "        print(\"在类方法中 访问类属性 text: {}\".format(cls.text))\n",
    "        print(\"在类方法中 调用实例方法 instance_method: {}\".format(cls().instance_method()))\n",
    "\n",
    "    @staticmethod\n",
    "    def static_method():\n",
    "        print(\"调用静态方法\")\n",
    "        print(\"在静态方法中 访问类属性 text: {}\".format(Demo.text))\n",
    "        print(\"在静态方法中 调用实例方法 instance_method: {}\".format(Demo().instance_method()))"
   ]
  },
  {
   "cell_type": "code",
   "execution_count": 2,
   "metadata": {},
   "outputs": [],
   "source": [
    "# 实例化对象\n",
    "d = Demo()"
   ]
  },
  {
   "cell_type": "code",
   "execution_count": 3,
   "metadata": {
    "tags": []
   },
   "outputs": [
    {
     "output_type": "stream",
     "name": "stdout",
     "text": "三种方法的比较\n"
    }
   ],
   "source": [
    "# 对象可以访问 实例方法、类方法、静态方法\n",
    "# 通过对象访问text属性\n",
    "print(d.text)"
   ]
  },
  {
   "cell_type": "code",
   "execution_count": 4,
   "metadata": {
    "tags": []
   },
   "outputs": [
    {
     "output_type": "stream",
     "name": "stdout",
     "text": "调用实例方法\n"
    }
   ],
   "source": [
    "# 通过对象调用实例方法\n",
    "d.instance_method()"
   ]
  },
  {
   "cell_type": "code",
   "execution_count": 5,
   "metadata": {
    "tags": []
   },
   "outputs": [
    {
     "output_type": "stream",
     "name": "stdout",
     "text": "调用类方法\n在类方法中 访问类属性 text: 三种方法的比较\n调用实例方法\n在类方法中 调用实例方法 instance_method: None\n"
    }
   ],
   "source": [
    "# 通过对象调用类方法\n",
    "d.class_method()"
   ]
  },
  {
   "cell_type": "code",
   "execution_count": 6,
   "metadata": {
    "tags": []
   },
   "outputs": [
    {
     "output_type": "stream",
     "name": "stdout",
     "text": "调用静态方法\n在静态方法中 访问类属性 text: 三种方法的比较\n调用实例方法\n在静态方法中 调用实例方法 instance_method: None\n"
    }
   ],
   "source": [
    "# 通过对象调用静态方法\n",
    "d.static_method()"
   ]
  },
  {
   "cell_type": "code",
   "execution_count": 7,
   "metadata": {
    "tags": []
   },
   "outputs": [
    {
     "output_type": "stream",
     "name": "stdout",
     "text": "三种方法的比较\n"
    }
   ],
   "source": [
    "# 类可以访问类方法、静态方法\n",
    "# 通过类访问text属性\n",
    "print(Demo.text)"
   ]
  },
  {
   "cell_type": "code",
   "execution_count": 8,
   "metadata": {
    "tags": []
   },
   "outputs": [
    {
     "output_type": "stream",
     "name": "stdout",
     "text": "调用类方法\n在类方法中 访问类属性 text: 三种方法的比较\n调用实例方法\n在类方法中 调用实例方法 instance_method: None\n"
    }
   ],
   "source": [
    "# 通过类调用类方法\n",
    "Demo.class_method()"
   ]
  },
  {
   "cell_type": "code",
   "execution_count": 9,
   "metadata": {
    "tags": []
   },
   "outputs": [
    {
     "output_type": "stream",
     "name": "stdout",
     "text": "调用静态方法\n在静态方法中 访问类属性 text: 三种方法的比较\n调用实例方法\n在静态方法中 调用实例方法 instance_method: None\n"
    }
   ],
   "source": [
    "# 通过类调用静态方法\n",
    "Demo.static_method()"
   ]
  }
 ]
}